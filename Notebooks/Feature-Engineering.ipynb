{
 "cells": [
  {
   "cell_type": "code",
   "execution_count": null,
   "metadata": {},
   "outputs": [],
   "source": [
    "import pandas as pd \n",
    "import numpy as np\n",
    "import seaborn as sns\n",
    "import matplotlib.pyplot as plt\n",
    "\n",
    "%run Imputation.ipynb"
   ]
  },
  {
   "cell_type": "code",
   "execution_count": null,
   "metadata": {},
   "outputs": [],
   "source": [
    "# Convert into Category\n",
    "pecarn_df['AgeinYears'] = pd.to_numeric(pecarn_df['AgeinYears'])\n",
    "pecarn_df['GCSTotal'] = pd.to_numeric(pecarn_df['GCSTotal'])\n",
    "for col in list(pecarn_df):\n",
    "        if col not in ['AgeinYears']:\n",
    "            if col not in ['GCSTotal']:\n",
    "                pecarn_df[col] = pecarn_df[col].astype('category')\n",
    "pecarn_df.dtypes"
   ]
  },
  {
   "cell_type": "code",
   "execution_count": null,
   "metadata": {},
   "outputs": [],
   "source": [
    "# Convert into Binary\n",
    "\n",
    "pecarn_df1 = pd.get_dummies(pecarn_df.loc[:, pecarn_df.columns != 'PosIntFinal'])\n",
    "pecarn_df1['PosIntFinal'] = pecarn_df['PosIntFinal']\n",
    "pecarn_df = pecarn_df1"
   ]
  },
  {
   "cell_type": "code",
   "execution_count": null,
   "metadata": {},
   "outputs": [],
   "source": [
    "# Removed 90/91/92\n",
    "\n",
    "pecarn_df1 = pecarn_df1[pecarn_df1.columns.drop(list(pecarn_df1.filter(regex='90')))]\n",
    "pecarn_df1 = pecarn_df1[pecarn_df1.columns.drop(list(pecarn_df1.filter(regex='91')))]\n",
    "pecarn_df1 = pecarn_df1[pecarn_df1.columns.drop(list(pecarn_df1.filter(regex='92')))]"
   ]
  }
 ],
 "metadata": {
  "kernelspec": {
   "display_name": "Python 3",
   "language": "python",
   "name": "python3"
  },
  "language_info": {
   "codemirror_mode": {
    "name": "ipython",
    "version": 3
   },
   "file_extension": ".py",
   "mimetype": "text/x-python",
   "name": "python",
   "nbconvert_exporter": "python",
   "pygments_lexer": "ipython3",
   "version": "3.7.4"
  }
 },
 "nbformat": 4,
 "nbformat_minor": 2
}
