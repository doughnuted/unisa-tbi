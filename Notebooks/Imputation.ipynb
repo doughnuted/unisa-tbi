{
 "cells": [
  {
   "cell_type": "code",
   "execution_count": 40,
   "metadata": {},
   "outputs": [
    {
     "name": "stdout",
     "output_type": "stream",
     "text": [
      "EmplType              float64\n",
      "Certification           int64\n",
      "InjuryMech            float64\n",
      "High_impact_InjSev    float64\n",
      "Amnesia_verb          float64\n",
      "                       ...   \n",
      "HospHead              float64\n",
      "HospHeadPosCT           int64\n",
      "Intub24Head           float64\n",
      "Neurosurgery          float64\n",
      "PosIntFinal           float64\n",
      "Length: 124, dtype: object\n",
      "EmplType              Int64\n",
      "Certification         Int64\n",
      "InjuryMech            Int64\n",
      "High_impact_InjSev    Int64\n",
      "Amnesia_verb          Int64\n",
      "                      ...  \n",
      "HospHead              Int64\n",
      "HospHeadPosCT         Int64\n",
      "Intub24Head           Int64\n",
      "Neurosurgery          Int64\n",
      "PosIntFinal           Int64\n",
      "Length: 124, dtype: object\n"
     ]
    },
    {
     "ename": "SyntaxError",
     "evalue": "EOL while scanning string literal (<ipython-input-40-945fc864c856>, line 50)",
     "output_type": "error",
     "traceback": [
      "\u001b[1;36m  File \u001b[1;32m\"<ipython-input-40-945fc864c856>\"\u001b[1;36m, line \u001b[1;32m50\u001b[0m\n\u001b[1;33m    \"\"\"\"\u001b[0m\n\u001b[1;37m        \n^\u001b[0m\n\u001b[1;31mSyntaxError\u001b[0m\u001b[1;31m:\u001b[0m EOL while scanning string literal\n"
     ]
    }
   ],
   "source": [
    "import pandas as pd \n",
    "import numpy as np\n",
    "import seaborn as sns\n",
    "import matplotlib.pyplot as plt\n",
    "\n",
    "%run DataCleaning.ipynb"
   ]
  },
  {
   "cell_type": "code",
   "execution_count": 37,
   "metadata": {},
   "outputs": [
    {
     "name": "stdout",
     "output_type": "stream",
     "text": [
      "  Removing 47226 NaN values from 28 columns\n",
      "  The imputed dataset is now available in a dataframe named \"data_imputed\"\n"
     ]
    }
   ],
   "source": [
    "from sklearn.impute import SimpleImputer\n",
    "\n",
    "# create an imputer using the 'most_frequent' strategy \n",
    "imputer = SimpleImputer(missing_values=np.nan, strategy='most_frequent', verbose=2)\n",
    "\n",
    "# fit the imputer for any columns that have NaNs\n",
    "total_nans = pecarn_df.isna().sum().sum()\n",
    "cols_with_nan = list(pecarn_df.columns[pecarn_df.isna().sum() > 0])\n",
    "print(f\"  Removing {total_nans} NaN values from {len(cols_with_nan)} columns\")\n",
    "\n",
    "imputer.fit(pecarn_df[cols_with_nan])\n",
    "imputed = imputer.fit_transform(pecarn_df[cols_with_nan])\n",
    "imputed\n",
    "\n",
    "# store the imputed values\n",
    "data_imputed = pecarn_df\n",
    "data_imputed[cols_with_nan] = imputed\n",
    "\n",
    "# convert the imputed values back to categorical\n",
    "for col in list(data_imputed[cols_with_nan]):\n",
    "    data_imputed[col] = data_imputed[col].astype('Int64').astype('category')"
   ]
  },
  {
   "cell_type": "code",
   "execution_count": 38,
   "metadata": {},
   "outputs": [
    {
     "data": {
      "text/plain": [
       "InjuryMech            0\n",
       "High_impact_InjSev    0\n",
       "Amnesia_verb          0\n",
       "LOCSeparate           0\n",
       "LocLen                0\n",
       "                     ..\n",
       "CTDone                0\n",
       "EDCT                  0\n",
       "PosCT                 0\n",
       "DeathTBI              0\n",
       "PosIntFinal           0\n",
       "Length: 83, dtype: int64"
      ]
     },
     "execution_count": 38,
     "metadata": {},
     "output_type": "execute_result"
    }
   ],
   "source": [
    "data_imputed.isna().sum()"
   ]
  },
  {
   "cell_type": "code",
   "execution_count": 39,
   "metadata": {},
   "outputs": [],
   "source": [
    "pecarn_df = data_imputed"
   ]
  }
 ],
 "metadata": {
  "kernelspec": {
   "display_name": "Python 3",
   "language": "python",
   "name": "python3"
  },
  "language_info": {
   "codemirror_mode": {
    "name": "ipython",
    "version": 3
   },
   "file_extension": ".py",
   "mimetype": "text/x-python",
   "name": "python",
   "nbconvert_exporter": "python",
   "pygments_lexer": "ipython3",
   "version": "3.7.4"
  }
 },
 "nbformat": 4,
 "nbformat_minor": 2
}
