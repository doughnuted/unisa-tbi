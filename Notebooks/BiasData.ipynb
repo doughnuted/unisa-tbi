{
 "cells": [
  {
   "cell_type": "code",
   "execution_count": 4,
   "metadata": {},
   "outputs": [
    {
     "name": "stdout",
     "output_type": "stream",
     "text": [
      "EmplType              float64\n",
      "Certification           int64\n",
      "InjuryMech            float64\n",
      "High_impact_InjSev    float64\n",
      "Amnesia_verb          float64\n",
      "                       ...   \n",
      "HospHead              float64\n",
      "HospHeadPosCT           int64\n",
      "Intub24Head           float64\n",
      "Neurosurgery          float64\n",
      "PosIntFinal           float64\n",
      "Length: 124, dtype: object\n",
      "EmplType              Int64\n",
      "Certification         Int64\n",
      "InjuryMech            Int64\n",
      "High_impact_InjSev    Int64\n",
      "Amnesia_verb          Int64\n",
      "                      ...  \n",
      "HospHead              Int64\n",
      "HospHeadPosCT         Int64\n",
      "Intub24Head           Int64\n",
      "Neurosurgery          Int64\n",
      "PosIntFinal           Int64\n",
      "Length: 124, dtype: object\n",
      "  Removing 47193 NaN values from 26 columns\n"
     ]
    },
    {
     "data": {
      "image/png": "[encoded data removed]",
      "text/plain": [
       "<Figure size 432x288 with 1 Axes>"
      ]
     },
     "metadata": {
      "needs_background": "light"
     },
     "output_type": "display_data"
    }
   ],
   "source": [
    "import pandas as pd \n",
    "import numpy as np\n",
    "import seaborn as sns\n",
    "import matplotlib.pyplot as plt\n",
    "\n",
    "%run FeatureSelection.ipynb"
   ]
  },
  {
   "cell_type": "code",
   "execution_count": null,
   "metadata": {},
   "outputs": [],
   "source": [
    "# Check balance of class variable\n",
    "\n",
    "sns.countplot(x=pecarn_df[\"PosIntFinal\"])\n",
    "pecarn_df.groupby(['PosIntFinal']).size()"
   ]
  },
  {
   "cell_type": "code",
   "execution_count": null,
   "metadata": {},
   "outputs": [],
   "source": [
    "# Remove Biased in dataset\n",
    "\n",
    "# Shuffle the Dataset.\n",
    "shuffled_df = pecarn_df.sample(frac=1,random_state=4)\n",
    "\n",
    "# Put all the fraud class in a separate dataset.\n",
    "fraud_df = shuffled_df.loc[shuffled_df['PosIntFinal'] == 1]\n",
    "\n",
    "#Randomly select 492 observations from the non-fraud (majority class)\n",
    "non_fraud_df = shuffled_df.loc[shuffled_df['PosIntFinal'] == 0].sample(n=763,random_state=42)\n",
    "\n",
    "# Concatenate both dataframes again\n",
    "normalized_df = pd.concat([fraud_df, non_fraud_df])\n",
    "\n",
    "#plot the dataset after the undersampling\n",
    "plt.figure(figsize=(8, 8))\n",
    "sns.countplot('PosIntFinal', data=normalized_df)\n",
    "plt.title('Balanced Classes')\n",
    "plt.show()"
   ]
  },
  {
   "cell_type": "code",
   "execution_count": null,
   "metadata": {},
   "outputs": [],
   "source": [
    "pecarn_df = normalized_df"
   ]
  }
 ],
 "metadata": {
  "kernelspec": {
   "display_name": "Python 3",
   "language": "python",
   "name": "python3"
  },
  "language_info": {
   "codemirror_mode": {
    "name": "ipython",
    "version": 3
   },
   "file_extension": ".py",
   "mimetype": "text/x-python",
   "name": "python",
   "nbconvert_exporter": "python",
   "pygments_lexer": "ipython3",
   "version": "3.7.4"
  }
 },
 "nbformat": 4,
 "nbformat_minor": 2
}
