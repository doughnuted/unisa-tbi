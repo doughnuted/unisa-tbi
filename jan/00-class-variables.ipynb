{
 "nbformat": 4,
 "nbformat_minor": 2,
 "metadata": {
  "language_info": {
   "name": "python",
   "codemirror_mode": {
    "name": "ipython",
    "version": 3
   },
   "version": "3.8.1-final"
  },
  "orig_nbformat": 2,
  "file_extension": ".py",
  "mimetype": "text/x-python",
  "name": "python",
  "npconvert_exporter": "python",
  "pygments_lexer": "ipython3",
  "version": 3,
  "kernelspec": {
   "name": "python38164bitcapstoneconda95c7eaee4aa645f6a7eec5cde52f040b",
   "display_name": "Python 3.8.1 64-bit ('capstone': conda)"
  }
 },
 "cells": [
  {
   "cell_type": "markdown",
   "metadata": {},
   "source": [
    "# Class/Target/Response Variables\n",
    "In the original dataset, the *PosIntFinal* variable is the class variable, response variable, or target variable (depending upon what you want to call it :)). \n",
    "\n",
    "However, the *PosIntFinal* variable is \"Yes\" when at least one of the *HospHeadPosCT*, *Intub24Head*, *Neurosurgery*, or *DeathTBI* variables were \"Yes\". The model probably doesn't need to predict the actual category (?)."
   ]
  },
  {
   "cell_type": "code",
   "execution_count": 1,
   "metadata": {},
   "outputs": [
    {
     "output_type": "stream",
     "name": "stdout",
     "text": "START: 00-load-raw-data.ipynb\n  PECARN TBI data read from c:\\Jan\\Capstone\\data/TBI PUD 10-08-2013.csv into \"pecarn_tbi\" dataframe\nSTART: 01-data-cleaning.ipynb\n  The cleaned dataframe named \"data\" is now available\n"
    }
   ],
   "source": [
    "# call the 02-data-cleaning.ipynb notebook to bring the pecarn_tbi dataframe and the cleaned dataframe into the environment\n",
    "%cd -q ../notebooks\n",
    "%run ./02-data-cleaning.ipynb\n",
    "%cd -q -"
   ]
  },
  {
   "cell_type": "code",
   "execution_count": 2,
   "metadata": {},
   "outputs": [
    {
     "output_type": "execute_result",
     "data": {
      "text/plain": "        PosIntFinal  HospHeadPosCT  Intub24Head  Neurosurgery  DeathTBI\ncount         43379          43399        43395         43398     43391\nunique            2              2            2             2         2\ntop               0              0            0             0         0\nfreq          42616          42706        43204         43198     43325",
      "text/html": "<div>\n<style scoped>\n    .dataframe tbody tr th:only-of-type {\n        vertical-align: middle;\n    }\n\n    .dataframe tbody tr th {\n        vertical-align: top;\n    }\n\n    .dataframe thead th {\n        text-align: right;\n    }\n</style>\n<table border=\"1\" class=\"dataframe\">\n  <thead>\n    <tr style=\"text-align: right;\">\n      <th></th>\n      <th>PosIntFinal</th>\n      <th>HospHeadPosCT</th>\n      <th>Intub24Head</th>\n      <th>Neurosurgery</th>\n      <th>DeathTBI</th>\n    </tr>\n  </thead>\n  <tbody>\n    <tr>\n      <th>count</th>\n      <td>43379</td>\n      <td>43399</td>\n      <td>43395</td>\n      <td>43398</td>\n      <td>43391</td>\n    </tr>\n    <tr>\n      <th>unique</th>\n      <td>2</td>\n      <td>2</td>\n      <td>2</td>\n      <td>2</td>\n      <td>2</td>\n    </tr>\n    <tr>\n      <th>top</th>\n      <td>0</td>\n      <td>0</td>\n      <td>0</td>\n      <td>0</td>\n      <td>0</td>\n    </tr>\n    <tr>\n      <th>freq</th>\n      <td>42616</td>\n      <td>42706</td>\n      <td>43204</td>\n      <td>43198</td>\n      <td>43325</td>\n    </tr>\n  </tbody>\n</table>\n</div>"
     },
     "metadata": {},
     "execution_count": 2
    }
   ],
   "source": [
    "responses_all_colnames = ['PosIntFinal', 'HospHeadPosCT', 'Intub24Head', 'Neurosurgery','DeathTBI']\n",
    "pecarn_tbi[responses_all_colnames].describe()"
   ]
  },
  {
   "cell_type": "markdown",
   "metadata": {},
   "source": [
    "We could consider renaming the *PosIntFinal* variable to something like *ciTBI* as a Yes/No"
   ]
  },
  {
   "cell_type": "code",
   "execution_count": null,
   "metadata": {},
   "outputs": [],
   "source": []
  }
 ]
}