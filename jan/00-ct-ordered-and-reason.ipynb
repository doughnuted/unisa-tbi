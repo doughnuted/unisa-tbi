{
 "nbformat": 4,
 "nbformat_minor": 2,
 "metadata": {
  "language_info": {
   "name": "python",
   "codemirror_mode": {
    "name": "ipython",
    "version": 3
   },
   "version": "3.8.1-final"
  },
  "orig_nbformat": 2,
  "file_extension": ".py",
  "mimetype": "text/x-python",
  "name": "python",
  "npconvert_exporter": "python",
  "pygments_lexer": "ipython3",
  "version": 3,
  "kernelspec": {
   "name": "python38164bitcapstoneconda95c7eaee4aa645f6a7eec5cde52f040b",
   "display_name": "Python 3.8.1 64-bit ('capstone': conda)"
  }
 },
 "cells": [
  {
   "cell_type": "markdown",
   "metadata": {},
   "source": [
    "# CT Ordered and Reasons for CT\n",
    "The *CTForm1* and *Ind###* columns appear to be confirmation that a CT scan iis being ordered, and a \"reasoning\" from the medical practitioner after they have decided to order a CT scan.\n",
    "\n",
    "As we are trying to make the decision the reasoning should be driven from other input data (?) and these should be excluded.\n",
    "\n",
    "Similarly, the *Findings###* columns appear to be assessing the CT scan. As we are not trying to predict the CT scan result, just whether we need to do a CT scan, these are being excluded for now (?)."
   ]
  },
  {
   "cell_type": "code",
   "execution_count": 3,
   "metadata": {},
   "outputs": [
    {
     "output_type": "stream",
     "name": "stdout",
     "text": "START: 00-load-raw-data.ipynb\n  PECARN TBI data read from c:\\Jan\\Capstone\\data/TBI PUD 10-08-2013.csv into \"pecarn_tbi\" dataframe\nSTART: 01-data-cleaning.ipynb\n  Dropping AgeInMonth\n  Renaming AgeinYears to Age\n  Dropping AgeTwoPlus\n  Dropping EmplType\n  Dropping AgeInMonth\n  Dropping High_impact_InjSev\n  Renaming InjuryMech to Injury_Mechanism\n  The cleaned dataset is now available in a dataframe named \"data\"\n"
    }
   ],
   "source": [
    "import seaborn as sns\n",
    "\n",
    "# call the 02-data-cleaning.ipynb notebook to bring the pecarn_tbi dataframe and the cleaned dataframe into the environment\n",
    "%cd -q ../notebooks\n",
    "%run ./02-data-cleaning.ipynb\n",
    "%cd -q -"
   ]
  },
  {
   "cell_type": "code",
   "execution_count": 6,
   "metadata": {},
   "outputs": [
    {
     "output_type": "execute_result",
     "data": {
      "text/plain": "CTDone    0\nEDCT      0\ndtype: int64"
     },
     "metadata": {},
     "execution_count": 6
    }
   ],
   "source": [
    "pecarn_tbi[['CTDone', 'EDCT']].isna().sum()"
   ]
  },
  {
   "cell_type": "code",
   "execution_count": null,
   "metadata": {},
   "outputs": [],
   "source": [
    "# if 'CTForm1' in list(model_inputs):\n",
    "#     model_inputs = model_inputs.drop(columns='CTForm1')\n",
    "\n",
    "# for col in list(model_inputs):\n",
    "#     if col.startswith('Ind'):\n",
    "#         model_inputs = model_inputs.drop(columns=col)\n",
    "\n",
    "# for col in list(model_inputs):\n",
    "#     if col.startswith('Finding'):\n",
    "#         model_inputs = model_inputs.drop(columns=col)   "
   ]
  }
 ]
}