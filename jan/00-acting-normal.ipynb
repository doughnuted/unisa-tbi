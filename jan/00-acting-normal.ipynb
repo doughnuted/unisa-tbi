{
 "nbformat": 4,
 "nbformat_minor": 2,
 "metadata": {
  "language_info": {
   "name": "python",
   "codemirror_mode": {
    "name": "ipython",
    "version": 3
   },
   "version": "3.8.1-final"
  },
  "orig_nbformat": 2,
  "file_extension": ".py",
  "mimetype": "text/x-python",
  "name": "python",
  "npconvert_exporter": "python",
  "pygments_lexer": "ipython3",
  "version": 3,
  "kernelspec": {
   "name": "python38164bitcapstoneconda95c7eaee4aa645f6a7eec5cde52f040b",
   "display_name": "Python 3.8.1 64-bit ('capstone': conda)"
  }
 },
 "cells": [
  {
   "cell_type": "markdown",
   "metadata": {},
   "source": [
    "# Acting Normal\n",
    "There are about 8% missing values for Acting Normal.\n",
    "\n",
    "If a parent has noticed that their child is *not* acting normal, we can assume it would have been mentioned to the medical practitioner, and therefore we can probably safely set missing data to \"Yes\""
   ]
  },
  {
   "cell_type": "code",
   "execution_count": 1,
   "metadata": {},
   "outputs": [
    {
     "output_type": "stream",
     "name": "stdout",
     "text": "START: 00-load-raw-data.ipynb\n  PECARN TBI data read from c:\\Jan\\Capstone\\data/TBI PUD 10-08-2013.csv into \"pecarn_tbi\" dataframe\nSTART: 01-data-cleaning.ipynb\n  Dropping AgeInMonth\n  Renaming AgeinYears to Age\n  Dropping AgeTwoPlus\n  Dropping EmplType\n  Dropping AgeInMonth\n  Dropping High_impact_InjSev\n  Renaming InjuryMech to Injury_Mechanism\n  Renaming ActNorm to Acting_Normal\n  Setting Acting_Normal missing data to 1 (Yes)\n  The cleaned dataset is now available in a dataframe named \"data\"\n"
    }
   ],
   "source": [
    "# call the 02-data-cleaning.ipynb notebook to bring the pecarn_tbi dataframe and the cleaned dataframe into the environment\n",
    "%cd -q ../notebooks\n",
    "%run ./02-data-cleaning.ipynb\n",
    "%cd -q -"
   ]
  },
  {
   "cell_type": "code",
   "execution_count": 2,
   "metadata": {},
   "outputs": [
    {
     "output_type": "execute_result",
     "data": {
      "text/plain": "3335"
     },
     "metadata": {},
     "execution_count": 2
    }
   ],
   "source": [
    "pecarn_tbi['ActNorm'].isna().sum()"
   ]
  },
  {
   "cell_type": "code",
   "execution_count": 3,
   "metadata": {},
   "outputs": [
    {
     "output_type": "execute_result",
     "data": {
      "text/plain": "8.324181309904153"
     },
     "metadata": {},
     "execution_count": 3
    }
   ],
   "source": [
    "pecarn_tbi['ActNorm'].isna().sum() / pecarn_tbi['ActNorm'].count() * 100"
   ]
  },
  {
   "cell_type": "code",
   "execution_count": 4,
   "metadata": {},
   "outputs": [
    {
     "output_type": "execute_result",
     "data": {
      "text/plain": "0"
     },
     "metadata": {},
     "execution_count": 4
    }
   ],
   "source": [
    "data['Acting_Normal'].isna().sum()"
   ]
  }
 ]
}