{
 "nbformat": 4,
 "nbformat_minor": 2,
 "metadata": {
  "language_info": {
   "name": "python",
   "codemirror_mode": {
    "name": "ipython",
    "version": 3
   },
   "version": "3.8.1-final"
  },
  "orig_nbformat": 2,
  "file_extension": ".py",
  "mimetype": "text/x-python",
  "name": "python",
  "npconvert_exporter": "python",
  "pygments_lexer": "ipython3",
  "version": 3,
  "kernelspec": {
   "name": "python38164bitcapstoneconda95c7eaee4aa645f6a7eec5cde52f040b",
   "display_name": "Python 3.8.1 64-bit ('capstone': conda)"
  }
 },
 "cells": [
  {
   "cell_type": "markdown",
   "metadata": {},
   "source": [
    "# Employee Type and Certification\n",
    "It may be possible that more senior staff have more experience and may make better diagnoses, but this is possibly not relevant for this exercise. "
   ]
  },
  {
   "cell_type": "code",
   "execution_count": 4,
   "metadata": {},
   "outputs": [
    {
     "output_type": "stream",
     "name": "stdout",
     "text": "START: 00-load-raw-data.ipynb\n  PECARN TBI data read from c:\\Jan\\Capstone\\data/TBI PUD 10-08-2013.csv into \"pecarn_tbi\" dataframe\nSTART: 01-data-cleaning.ipynb\n  Dropping AgeInMonth\n  Renaming AgeinYears to Age\n  Dropping AgeTwoPlus\n  Dropping EmplType\n  Dropping AgeInMonth\n  The cleaned dataset is now available in a dataframe named \"data\"\n"
    }
   ],
   "source": [
    "# call the 02-data-cleaning.ipynb notebook to bring the pecarn_tbi dataframe and the cleaned dataframe into the environment\n",
    "%cd -q ../notebooks\n",
    "%run ./02-data-cleaning.ipynb\n",
    "%cd -q -"
   ]
  },
  {
   "cell_type": "code",
   "execution_count": 5,
   "metadata": {},
   "outputs": [],
   "source": [
    "emp = pecarn_tbi[['EmplType', 'Certification']]"
   ]
  },
  {
   "cell_type": "code",
   "execution_count": 6,
   "metadata": {},
   "outputs": [
    {
     "output_type": "execute_result",
     "data": {
      "text/plain": "EmplType         18\nCertification     0\ndtype: int64"
     },
     "metadata": {},
     "execution_count": 6
    }
   ],
   "source": [
    "emp.isna().sum()"
   ]
  }
 ]
}