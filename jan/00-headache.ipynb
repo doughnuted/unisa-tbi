{
 "nbformat": 4,
 "nbformat_minor": 2,
 "metadata": {
  "language_info": {
   "name": "python",
   "codemirror_mode": {
    "name": "ipython",
    "version": 3
   },
   "version": "3.8.1-final"
  },
  "orig_nbformat": 2,
  "file_extension": ".py",
  "mimetype": "text/x-python",
  "name": "python",
  "npconvert_exporter": "python",
  "pygments_lexer": "ipython3",
  "version": 3,
  "kernelspec": {
   "name": "python38164bitcapstoneconda95c7eaee4aa645f6a7eec5cde52f040b",
   "display_name": "Python 3.8.1 64-bit ('capstone': conda)"
  }
 },
 "cells": [
  {
   "cell_type": "markdown",
   "metadata": {},
   "source": [
    "# Headache\n",
    "Several variables deal with recording whether the patient had headaches.\n",
    "\n",
    "*HA_verb* is \"Headache at time of ED evaluation?\"\n",
    "\n",
    "*HASeverity* is \"Severity of headache\"\n",
    "\n",
    "*HAStart* is \"When did the headache start?\""
   ]
  },
  {
   "cell_type": "code",
   "execution_count": 1,
   "metadata": {},
   "outputs": [
    {
     "output_type": "stream",
     "name": "stdout",
     "text": "START: 00-load-raw-data.ipynb\n  PECARN TBI data read from c:\\Jan\\Capstone\\data/TBI PUD 10-08-2013.csv into \"pecarn_tbi\" dataframe\nSTART: 01-data-cleaning.ipynb\n  Dropping AgeInMonth\n  Renaming AgeinYears to Age\n  Dropping AgeTwoPlus\n  Dropping EmplType\n  Dropping AgeInMonth\n  The cleaned dataset is now available in a dataframe named \"data\"\n"
    }
   ],
   "source": [
    "# call the 02-data-cleaning.ipynb notebook to bring the pecarn_tbi dataframe and the cleaned dataframe into the environment\n",
    "%cd -q ../notebooks\n",
    "%run ./02-data-cleaning.ipynb\n",
    "%cd -q -"
   ]
  },
  {
   "cell_type": "code",
   "execution_count": 2,
   "metadata": {},
   "outputs": [],
   "source": [
    "df = pecarn_tbi[pecarn_tbi['High_impact_InjSev'] != 1]\n",
    "\n",
    "ha = df[['HA_verb', 'HASeverity', 'HAStart']]"
   ]
  },
  {
   "cell_type": "markdown",
   "metadata": {},
   "source": [
    "## Missing Data\n",
    "There are quite a few missing (NaN) values across all three headache variables."
   ]
  },
  {
   "cell_type": "code",
   "execution_count": 3,
   "metadata": {},
   "outputs": [
    {
     "output_type": "execute_result",
     "data": {
      "text/plain": "HA_verb        565\nHASeverity     850\nHAStart       1114\ndtype: int64"
     },
     "metadata": {},
     "execution_count": 3
    }
   ],
   "source": [
    "ha.isna().sum()"
   ]
  },
  {
   "cell_type": "markdown",
   "metadata": {},
   "source": [
    "## HA_verb\n",
    "The *HA_verb* is No (0), Yes (1), Pre-verbal/Non-verbal (92), or NaN (missing).\n",
    "\n",
    "Pre-verbal is marked if the patient is too young to speak.  Non-verbal is marked if the patient is intubated or otherwise unable to give an understandable verbal response.  Pre-verbal and non-verbal were determined by the physician."
   ]
  },
  {
   "cell_type": "markdown",
   "metadata": {},
   "source": [
    "Sanity check that when *HA_verb* is NaN the *HASeverity* and *HAStart* is actualy 92."
   ]
  },
  {
   "cell_type": "code",
   "execution_count": 4,
   "metadata": {},
   "outputs": [
    {
     "output_type": "execute_result",
     "data": {
      "text/plain": "       HA_verb HASeverity HAStart\nPatNum                           \n3          NaN         92      92\n193        NaN         92      92\n428        NaN         92      92\n444        NaN         92      92\n526        NaN         92      92",
      "text/html": "<div>\n<style scoped>\n    .dataframe tbody tr th:only-of-type {\n        vertical-align: middle;\n    }\n\n    .dataframe tbody tr th {\n        vertical-align: top;\n    }\n\n    .dataframe thead th {\n        text-align: right;\n    }\n</style>\n<table border=\"1\" class=\"dataframe\">\n  <thead>\n    <tr style=\"text-align: right;\">\n      <th></th>\n      <th>HA_verb</th>\n      <th>HASeverity</th>\n      <th>HAStart</th>\n    </tr>\n    <tr>\n      <th>PatNum</th>\n      <th></th>\n      <th></th>\n      <th></th>\n    </tr>\n  </thead>\n  <tbody>\n    <tr>\n      <th>3</th>\n      <td>NaN</td>\n      <td>92</td>\n      <td>92</td>\n    </tr>\n    <tr>\n      <th>193</th>\n      <td>NaN</td>\n      <td>92</td>\n      <td>92</td>\n    </tr>\n    <tr>\n      <th>428</th>\n      <td>NaN</td>\n      <td>92</td>\n      <td>92</td>\n    </tr>\n    <tr>\n      <th>444</th>\n      <td>NaN</td>\n      <td>92</td>\n      <td>92</td>\n    </tr>\n    <tr>\n      <th>526</th>\n      <td>NaN</td>\n      <td>92</td>\n      <td>92</td>\n    </tr>\n  </tbody>\n</table>\n</div>"
     },
     "metadata": {},
     "execution_count": 4
    }
   ],
   "source": [
    "ha[ha['HA_verb'].isna()].head()"
   ]
  },
  {
   "cell_type": "code",
   "execution_count": 5,
   "metadata": {},
   "outputs": [
    {
     "output_type": "execute_result",
     "data": {
      "text/plain": "HA_verb       0\nHASeverity    0\nHAStart       0\ndtype: int64"
     },
     "metadata": {},
     "execution_count": 5
    }
   ],
   "source": [
    "ha[ha['HA_verb'].isna() & ((ha['HASeverity'] != 92) | (ha['HAStart'] != 92))].count()"
   ]
  },
  {
   "cell_type": "code",
   "execution_count": 6,
   "metadata": {},
   "outputs": [
    {
     "output_type": "stream",
     "name": "stdout",
     "text": "0     12993\n91    11709\n1     10610\nName: HA_verb, dtype: int64\n92    25267\n2      4778\n1      4264\n3       718\nName: HASeverity, dtype: int64\n92    25267\n2      8783\n3       507\n4       140\n1        66\nName: HAStart, dtype: int64\n"
    }
   ],
   "source": [
    "for col in ha:\n",
    "    print(ha[col].value_counts())"
   ]
  },
  {
   "cell_type": "markdown",
   "metadata": {},
   "source": [
    "## HASeverity"
   ]
  },
  {
   "cell_type": "code",
   "execution_count": 7,
   "metadata": {},
   "outputs": [
    {
     "output_type": "execute_result",
     "data": {
      "text/plain": "       HA_verb HASeverity HAStart\nPatNum                           \n29           1        NaN     NaN\n61           1        NaN       2\n195          1        NaN       2\n349          1        NaN     NaN\n505          1        NaN       2",
      "text/html": "<div>\n<style scoped>\n    .dataframe tbody tr th:only-of-type {\n        vertical-align: middle;\n    }\n\n    .dataframe tbody tr th {\n        vertical-align: top;\n    }\n\n    .dataframe thead th {\n        text-align: right;\n    }\n</style>\n<table border=\"1\" class=\"dataframe\">\n  <thead>\n    <tr style=\"text-align: right;\">\n      <th></th>\n      <th>HA_verb</th>\n      <th>HASeverity</th>\n      <th>HAStart</th>\n    </tr>\n    <tr>\n      <th>PatNum</th>\n      <th></th>\n      <th></th>\n      <th></th>\n    </tr>\n  </thead>\n  <tbody>\n    <tr>\n      <th>29</th>\n      <td>1</td>\n      <td>NaN</td>\n      <td>NaN</td>\n    </tr>\n    <tr>\n      <th>61</th>\n      <td>1</td>\n      <td>NaN</td>\n      <td>2</td>\n    </tr>\n    <tr>\n      <th>195</th>\n      <td>1</td>\n      <td>NaN</td>\n      <td>2</td>\n    </tr>\n    <tr>\n      <th>349</th>\n      <td>1</td>\n      <td>NaN</td>\n      <td>NaN</td>\n    </tr>\n    <tr>\n      <th>505</th>\n      <td>1</td>\n      <td>NaN</td>\n      <td>2</td>\n    </tr>\n  </tbody>\n</table>\n</div>"
     },
     "metadata": {},
     "execution_count": 7
    }
   ],
   "source": [
    "ha[ha['HASeverity'].isna()].head()"
   ]
  },
  {
   "cell_type": "markdown",
   "metadata": {},
   "source": [
    "So, the only information in the *HA_verb* variable is the records that indicate Pre-verbal/Non-verbal\n",
    "\n",
    "An option here might be to encode Pre-verbal/Non-verbal into *HASeverity* or *HAStart*"
   ]
  }
 ]
}