{
 "cells": [
  {
   "cell_type": "markdown",
   "metadata": {},
   "source": [
    "# This is the seventh task which shows the implementation of LightBGM gradient boosting algorithm"
   ]
  },
  {
   "cell_type": "code",
   "execution_count": 46,
   "metadata": {},
   "outputs": [],
   "source": [
    "TBI_Kart.columns = [\"\".join (c if c.isalnum() else \"_\" for c in str(x)) for x in TBI_Kart.columns]"
   ]
  },
  {
   "cell_type": "code",
   "execution_count": 48,
   "metadata": {},
   "outputs": [],
   "source": [
    "valid_fraction = 0.1\n",
    "valid_size = int(len(TBI_Kart) * valid_fraction)\n",
    "train = TBI_Kart[:-2 * valid_size]\n",
    "valid = TBI_Kart[-2 * valid_size:-valid_size]\n",
    "test = TBI_Kart[-valid_size:]"
   ]
  },
  {
   "cell_type": "code",
   "execution_count": 49,
   "metadata": {},
   "outputs": [
    {
     "name": "stdout",
     "output_type": "stream",
     "text": [
      "Outcome fraction = 0.3669\n",
      "Outcome fraction = 0.3611\n",
      "Outcome fraction = 0.3650\n"
     ]
    }
   ],
   "source": [
    "for each in [train, valid, test]:\n",
    "    print(f\"Outcome fraction = {each.CTDone.mean():.4f}\")"
   ]
  },
  {
   "cell_type": "code",
   "execution_count": 50,
   "metadata": {},
   "outputs": [],
   "source": [
    "import lightgbm as lgb\n",
    "\n",
    "feature_cols = train.columns.drop('CTDone')\n",
    "\n",
    "dtrain = lgb.Dataset(train[feature_cols], label=train['CTDone'])\n",
    "dvalid = lgb.Dataset(valid[feature_cols], label=valid['CTDone'])"
   ]
  },
  {
   "cell_type": "code",
   "execution_count": 51,
   "metadata": {},
   "outputs": [],
   "source": [
    "param = {'num_leaves': 64, 'objective': 'binary'}\n",
    "param['metric'] = 'auc'\n",
    "num_round = 1000\n",
    "bst = lgb.train(param, dtrain, num_round, valid_sets=[dvalid], early_stopping_rounds=10, verbose_eval=False)"
   ]
  },
  {
   "cell_type": "code",
   "execution_count": 53,
   "metadata": {},
   "outputs": [
    {
     "name": "stdout",
     "output_type": "stream",
     "text": [
      "Test AUC score: 0.9849736740815976\n"
     ]
    }
   ],
   "source": [
    "from sklearn import metrics\n",
    "ypred = bst.predict(test[feature_cols])\n",
    "score = metrics.roc_auc_score(test['CTDone'], ypred)\n",
    "\n",
    "print(f\"Test AUC score: {score}\")"
   ]
  }
 ],
 "metadata": {
  "kernelspec": {
   "display_name": "Python 3",
   "language": "python",
   "name": "python3"
  },
  "language_info": {
   "codemirror_mode": {
    "name": "ipython",
    "version": 3
   },
   "file_extension": ".py",
   "mimetype": "text/x-python",
   "name": "python",
   "nbconvert_exporter": "python",
   "pygments_lexer": "ipython3",
   "version": "3.7.4"
  }
 },
 "nbformat": 4,
 "nbformat_minor": 2
}
