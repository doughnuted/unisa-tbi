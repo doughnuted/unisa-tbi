{
 "cells": [
  {
   "cell_type": "markdown",
   "metadata": {},
   "source": [
    "# xgboost.XGBClassifier with reduced features\n",
    "This notebook demonstrates a xgboost.XGBClassifier that removes features based on their importance being above a threshold"
   ]
  },
  {
   "cell_type": "code",
   "execution_count": 1,
   "metadata": {},
   "outputs": [],
   "source": [
    "# magic to help out Jupyter notebooks\n",
    "import os, sys\n",
    "sys.path.append(os.path.abspath('..\\src'))"
   ]
  },
  {
   "cell_type": "code",
   "execution_count": 2,
   "metadata": {},
   "outputs": [
    {
     "output_type": "stream",
     "name": "stdout",
     "text": "INFO:data.pecarn.load:Loading from Pickle file c:\\Jan\\Capstone\\notebooks\\PECARN_TBI.pkl\n"
    }
   ],
   "source": [
    "import pandas as pd \n",
    "\n",
    "# allow log messages in notebooks\n",
    "import logging\n",
    "logging.basicConfig(stream=sys.stdout, level=logging.INFO)\n",
    "\n",
    "# use the pecarn module to bring the PECARN dataset into the notebook\n",
    "from data import pecarn\n",
    "\n",
    "# cleaned PECARN data\n",
    "pecarn_cleaned = pecarn.clean(pecarn.load(fromCsv=False))\n",
    "\n",
    "# processed data, ready for splitting into training and test sets\n",
    "X = pecarn_cleaned.drop(columns='PosIntFinal')\n",
    "y = pecarn.preprocess(pecarn_cleaned[['PosIntFinal']])"
   ]
  },
  {
   "cell_type": "code",
   "execution_count": 3,
   "metadata": {},
   "outputs": [],
   "source": [
    "from sklearn.model_selection import train_test_split\n",
    "X_train, X_test, y_train, y_test = train_test_split(X, y, train_size=0.75, test_size=0.25, stratify=y,      random_state=1234)"
   ]
  },
  {
   "cell_type": "markdown",
   "metadata": {},
   "source": [
    "First, lets take a quick look at feature importance that comes out of a simple XGBClassifier"
   ]
  },
  {
   "cell_type": "code",
   "execution_count": 4,
   "metadata": {},
   "outputs": [
    {
     "output_type": "stream",
     "name": "stdout",
     "text": "[Pipeline] .. (step 1 of 1) Processing convert_to_float, total=   0.5s\n"
    },
    {
     "output_type": "execute_result",
     "data": {
      "text/plain": "Pipeline(steps=[('data.pecarn.preprocess',\n                 Pipeline(steps=[('convert_to_float',\n                                  FunctionTransformer(func=<function _convert_to_float at 0x00000287E4BA6B88>))],\n                          verbose=True)),\n                ('feature_selection', XGBClassifier())])"
     },
     "metadata": {},
     "execution_count": 4
    }
   ],
   "source": [
    "from xgboost import XGBClassifier\n",
    "from sklearn.pipeline import Pipeline \n",
    "\n",
    "selection_pipeline = Pipeline(steps=[\n",
    "    ('data.pecarn.preprocess', pecarn.make_preprocess_pipeline()),\n",
    "    ('feature_selection', XGBClassifier()),\n",
    "])\n",
    "selection_pipeline.fit(X_train, y_train)"
   ]
  },
  {
   "cell_type": "code",
   "execution_count": 5,
   "metadata": {},
   "outputs": [
    {
     "output_type": "execute_result",
     "data": {
      "text/plain": "      Feature  Importance\n22  GCSVerbal    0.168769\n20     GCSEye    0.084770\n6     ActNorm    0.083531\n21   GCSMotor    0.081807\n0         AMS    0.080055",
      "text/html": "<div>\n<style scoped>\n    .dataframe tbody tr th:only-of-type {\n        vertical-align: middle;\n    }\n\n    .dataframe tbody tr th {\n        vertical-align: top;\n    }\n\n    .dataframe thead th {\n        text-align: right;\n    }\n</style>\n<table border=\"1\" class=\"dataframe\">\n  <thead>\n    <tr style=\"text-align: right;\">\n      <th></th>\n      <th>Feature</th>\n      <th>Importance</th>\n    </tr>\n  </thead>\n  <tbody>\n    <tr>\n      <th>22</th>\n      <td>GCSVerbal</td>\n      <td>0.168769</td>\n    </tr>\n    <tr>\n      <th>20</th>\n      <td>GCSEye</td>\n      <td>0.084770</td>\n    </tr>\n    <tr>\n      <th>6</th>\n      <td>ActNorm</td>\n      <td>0.083531</td>\n    </tr>\n    <tr>\n      <th>21</th>\n      <td>GCSMotor</td>\n      <td>0.081807</td>\n    </tr>\n    <tr>\n      <th>0</th>\n      <td>AMS</td>\n      <td>0.080055</td>\n    </tr>\n  </tbody>\n</table>\n</div>"
     },
     "metadata": {},
     "execution_count": 5
    }
   ],
   "source": [
    "# construct a data frame to investigate the feature importance\n",
    "feature_importance = pd.DataFrame({\n",
    "    'Feature': list(X_train.columns),\n",
    "    'Importance': selection_pipeline.named_steps['feature_selection'].feature_importances_\n",
    "    }).sort_values(by='Importance', ascending=False)\n",
    "\n",
    "# and show the top 5\n",
    "feature_importance.head(5)"
   ]
  },
  {
   "cell_type": "markdown",
   "metadata": {},
   "source": [
    "For demonstration purposes, we will pick a more or less arbitrary threshold of the median of the features that have a non-zero importance value."
   ]
  },
  {
   "cell_type": "code",
   "execution_count": 6,
   "metadata": {},
   "outputs": [
    {
     "output_type": "execute_result",
     "data": {
      "text/plain": "Importance    0.010823\ndtype: float64"
     },
     "metadata": {},
     "execution_count": 6
    }
   ],
   "source": [
    "non_zero_importance = feature_importance[feature_importance['Importance'] > 0]\n",
    "non_zero_importance.median()"
   ]
  },
  {
   "cell_type": "markdown",
   "metadata": {},
   "source": [
    "And use the median as the threshold in a pipeline..."
   ]
  },
  {
   "cell_type": "code",
   "execution_count": 7,
   "metadata": {},
   "outputs": [],
   "source": [
    "from xgboost import XGBClassifier\n",
    "from sklearn.feature_selection import SelectFromModel\n",
    "from sklearn.pipeline import Pipeline \n",
    "\n",
    "# the selector features from an XGBClassifier\n",
    "feature_selector = SelectFromModel(XGBClassifier(), threshold=non_zero_importance.median())\n",
    "\n",
    "# the classifier that will be trained on the selected features\n",
    "clf = XGBClassifier()\n",
    "\n",
    "pipeline = Pipeline(steps=[\n",
    "    ('data.pecarn.preprocess', pecarn.make_preprocess_pipeline()),\n",
    "    ('feature_selection', feature_selector),\n",
    "    ('xgboost', clf)\n",
    "])"
   ]
  },
  {
   "cell_type": "code",
   "execution_count": 8,
   "metadata": {},
   "outputs": [
    {
     "output_type": "stream",
     "name": "stdout",
     "text": "[Pipeline] .. (step 1 of 1) Processing convert_to_float, total=   0.0s\n"
    },
    {
     "output_type": "execute_result",
     "data": {
      "text/plain": "Pipeline(steps=[('data.pecarn.preprocess',\n                 Pipeline(steps=[('convert_to_float',\n                                  FunctionTransformer(func=<function _convert_to_float at 0x00000287E4BA6B88>))],\n                          verbose=True)),\n                ('feature_selection',\n                 SelectFromModel(estimator=XGBClassifier(),\n                                 threshold=Importance    0.010823\ndtype: float64)),\n                ('xgboost', XGBClassifier())])"
     },
     "metadata": {},
     "execution_count": 8
    }
   ],
   "source": [
    "pipeline.fit(X_train, y_train)"
   ]
  },
  {
   "cell_type": "code",
   "execution_count": 9,
   "metadata": {},
   "outputs": [
    {
     "output_type": "execute_result",
     "data": {
      "text/plain": "0.9875507192917743"
     },
     "metadata": {},
     "execution_count": 9
    }
   ],
   "source": [
    "pipeline.score(X_test, y_test)"
   ]
  },
  {
   "cell_type": "code",
   "execution_count": 10,
   "metadata": {},
   "outputs": [
    {
     "output_type": "execute_result",
     "data": {
      "text/plain": "0.5090909090909091"
     },
     "metadata": {},
     "execution_count": 10
    }
   ],
   "source": [
    "from sklearn.metrics import f1_score\n",
    "y_pred = pipeline.predict(X_test)\n",
    "f1_score(y_test, y_pred)"
   ]
  }
 ],
 "metadata": {
  "language_info": {
   "name": "python",
   "codemirror_mode": {
    "name": "ipython",
    "version": 3
   },
   "version": "3.7.6-final"
  },
  "orig_nbformat": 2,
  "file_extension": ".py",
  "mimetype": "text/x-python",
  "name": "python",
  "npconvert_exporter": "python",
  "pygments_lexer": "ipython3",
  "version": 3,
  "kernelspec": {
   "name": "python37764bittbiconda79f3677b0f244951b8d0c80c92d83904",
   "display_name": "Python 3.7.7 64-bit ('tbi': conda)"
  }
 },
 "nbformat": 4,
 "nbformat_minor": 2
}