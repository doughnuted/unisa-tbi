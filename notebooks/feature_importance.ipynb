{
 "cells": [
  {
   "cell_type": "code",
   "execution_count": 1,
   "metadata": {},
   "outputs": [],
   "source": [
    "# magic to help out Jupyter notebooks\n",
    "import os, sys\n",
    "sys.path.append(os.path.abspath('..\\src'))"
   ]
  },
  {
   "cell_type": "code",
   "execution_count": 2,
   "metadata": {},
   "outputs": [
    {
     "output_type": "stream",
     "name": "stdout",
     "text": "INFO:data.pecarn.load:Loading from Pickle file c:\\Jan\\Capstone\\notebooks\\PECARN_TBI.pkl\n"
    }
   ],
   "source": [
    "import pandas as pd \n",
    "\n",
    "# allow log messages in notebooks\n",
    "import logging\n",
    "logging.basicConfig(stream=sys.stdout, level=logging.INFO)\n",
    "\n",
    "# use the pecarn module to bring the PECARN dataset into the notebook\n",
    "from data import pecarn\n",
    "\n",
    "# cleaned PECARN data\n",
    "pecarn_cleaned = pecarn.clean(pecarn.load(fromCsv=False))\n",
    "\n",
    "# processed data, ready for splitting into training and test sets\n",
    "X = pecarn_cleaned.drop(columns='PosIntFinal')\n",
    "y = pecarn.preprocess(pecarn_cleaned[['PosIntFinal']])"
   ]
  }
 ],
 "metadata": {
  "language_info": {
   "codemirror_mode": {
    "name": "ipython",
    "version": 3
   },
   "file_extension": ".py",
   "mimetype": "text/x-python",
   "name": "python",
   "nbconvert_exporter": "python",
   "pygments_lexer": "ipython3",
   "version": "3.8.3-final"
  },
  "orig_nbformat": 2,
  "kernelspec": {
   "name": "python37764bittbiconda79f3677b0f244951b8d0c80c92d83904",
   "display_name": "Python 3.7.7 64-bit ('tbi': conda)"
  }
 },
 "nbformat": 4,
 "nbformat_minor": 2
}