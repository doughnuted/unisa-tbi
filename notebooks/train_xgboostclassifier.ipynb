{
 "cells": [
  {
   "cell_type": "markdown",
   "metadata": {},
   "source": [
    "# xgboost.XGBClassifier\n",
    "This notebook demonstrates a xgboost.XGBClassifier"
   ]
  },
  {
   "cell_type": "code",
   "execution_count": 1,
   "metadata": {},
   "outputs": [],
   "source": [
    "# magic to help out Jupyter notebooks\n",
    "import os, sys\n",
    "sys.path.append(os.path.abspath('..\\src'))"
   ]
  },
  {
   "cell_type": "code",
   "execution_count": 2,
   "metadata": {},
   "outputs": [
    {
     "output_type": "stream",
     "name": "stdout",
     "text": "INFO:data.pecarn.load:Loading from Pickle file c:\\Jan\\Capstone\\notebooks\\PECARN_TBI.pkl\n"
    }
   ],
   "source": [
    "import pandas as pd \n",
    "\n",
    "# allow log messages in notebooks\n",
    "import logging\n",
    "logging.basicConfig(stream=sys.stdout, level=logging.INFO)\n",
    "\n",
    "# use the pecarn module to bring the PECARN dataset into the notebook\n",
    "from data import pecarn\n",
    "\n",
    "# cleaned PECARN data\n",
    "pecarn_cleaned = pecarn.clean(pecarn.load(fromCsv=False))\n",
    "\n",
    "# processed data, ready for splitting into training and test sets\n",
    "X = pecarn_cleaned.drop(columns='PosIntFinal')\n",
    "y = pecarn.preprocess(pecarn_cleaned[['PosIntFinal']])"
   ]
  },
  {
   "cell_type": "code",
   "execution_count": 3,
   "metadata": {},
   "outputs": [],
   "source": [
    "from sklearn.model_selection import train_test_split\n",
    "X_train, X_test, y_train, y_test = train_test_split(X, y, train_size=0.75, test_size=0.25, stratify=y,      random_state=1234)"
   ]
  },
  {
   "cell_type": "code",
   "execution_count": 4,
   "metadata": {},
   "outputs": [],
   "source": [
    "from xgboost import XGBClassifier\n",
    "from sklearn.pipeline import Pipeline \n",
    "\n",
    "clf = XGBClassifier()\n",
    "pipeline = Pipeline(steps=[\n",
    "    ('data.pecarn.preprocess', pecarn.make_preprocess_pipeline()),\n",
    "    ('xgboost', clf)\n",
    "])"
   ]
  },
  {
   "cell_type": "code",
   "execution_count": 5,
   "metadata": {},
   "outputs": [
    {
     "output_type": "stream",
     "name": "stdout",
     "text": "[Pipeline] .. (step 1 of 1) Processing convert_to_float, total=   0.5s\n"
    },
    {
     "output_type": "execute_result",
     "data": {
      "text/plain": "Pipeline(steps=[('data.pecarn.preprocess',\n                 Pipeline(steps=[('convert_to_float',\n                                  FunctionTransformer(func=<function _convert_to_float at 0x0000023B4CCC6B88>))],\n                          verbose=True)),\n                ('xgboost', XGBClassifier())])"
     },
     "metadata": {},
     "execution_count": 5
    }
   ],
   "source": [
    "pipeline.fit(X_train, y_train)"
   ]
  },
  {
   "cell_type": "code",
   "execution_count": 6,
   "metadata": {},
   "outputs": [
    {
     "output_type": "execute_result",
     "data": {
      "text/plain": "0.9872740686093693"
     },
     "metadata": {},
     "execution_count": 6
    }
   ],
   "source": [
    "pipeline.score(X_test, y_test)"
   ]
  },
  {
   "cell_type": "code",
   "execution_count": 7,
   "metadata": {},
   "outputs": [
    {
     "output_type": "execute_result",
     "data": {
      "text/plain": "0.4888888888888889"
     },
     "metadata": {},
     "execution_count": 7
    }
   ],
   "source": [
    "from sklearn.metrics import f1_score\n",
    "y_pred = pipeline.predict(X_test)\n",
    "f1_score(y_test, y_pred)"
   ]
  }
 ],
 "metadata": {
  "language_info": {
   "name": "python",
   "codemirror_mode": {
    "name": "ipython",
    "version": 3
   },
   "version": "3.7.6-final"
  },
  "orig_nbformat": 2,
  "file_extension": ".py",
  "mimetype": "text/x-python",
  "name": "python",
  "npconvert_exporter": "python",
  "pygments_lexer": "ipython3",
  "version": 3,
  "kernelspec": {
   "name": "python37764bittbiconda79f3677b0f244951b8d0c80c92d83904",
   "display_name": "Python 3.7.7 64-bit ('tbi': conda)"
  }
 },
 "nbformat": 4,
 "nbformat_minor": 2
}